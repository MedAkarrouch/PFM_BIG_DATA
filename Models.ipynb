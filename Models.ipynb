{
 "cells": [
  {
   "cell_type": "code",
   "execution_count": 1,
   "id": "d70eb286",
   "metadata": {},
   "outputs": [
    {
     "name": "stdout",
     "output_type": "stream",
     "text": [
      "c:\\Users\\huawei\\AppData\\Local\\Programs\\Python\\Python311\\python.exe\n"
     ]
    }
   ],
   "source": [
    "import sys\n",
    "print(sys.executable)\n"
   ]
  },
  {
   "cell_type": "code",
   "execution_count": 2,
   "id": "9cc4d973",
   "metadata": {},
   "outputs": [],
   "source": [
    "import os\n",
    "os.environ[\"PYSPARK_PYTHON\"] = sys.executable\n"
   ]
  },
  {
   "cell_type": "code",
   "execution_count": 3,
   "id": "c700ddea",
   "metadata": {},
   "outputs": [],
   "source": [
    "from pyspark.sql import SparkSession\n",
    "from pyspark.sql.functions import col, length, when, lit, concat_ws\n",
    "\n",
    "# 1. Start Spark session\n",
    "spark = SparkSession.builder \\\n",
    "    .appName(\"Amazon Sentiment ML\") \\\n",
    "    .getOrCreate()\n",
    "\n",
    "# 2. Load the dataset (CSV format)\n",
    "df = spark.read.csv(\"../data/Musical_instruments_reviews.csv\", header=True, inferSchema=True)"
   ]
  },
  {
   "cell_type": "code",
   "execution_count": 4,
   "id": "0a4aec0f",
   "metadata": {},
   "outputs": [],
   "source": [
    "df = df.withColumn(\"full_review\", \n",
    "    concat_ws(\" \", \n",
    "        when(col(\"summary\").isNull(), \"\").otherwise(col(\"summary\")),\n",
    "        when(col(\"reviewText\").isNull(), \"\").otherwise(col(\"reviewText\"))\n",
    "    ))"
   ]
  },
  {
   "cell_type": "code",
   "execution_count": 5,
   "id": "5e639284",
   "metadata": {},
   "outputs": [],
   "source": [
    "from pyspark.sql.functions import col, lower, regexp_replace, trim\n",
    "\n",
    "df = df.withColumn(\"full_review\", lower(col(\"full_review\")))  # 1. Tout en minuscule\n",
    "\n",
    "df = df.withColumn(\"full_review\", regexp_replace(col(\"full_review\"), \"[^a-zA-ZÀ-ÿ\\\\s]\", \" \"))  # 2. Supprimer ponctuation et symboles\n",
    "\n",
    "df = df.withColumn(\"full_review\", regexp_replace(col(\"full_review\"), \"\\\\s+\", \" \"))  # 3. Supprimer les espaces multiples\n",
    "\n",
    "df = df.withColumn(\"full_review\", trim(col(\"full_review\")))  # 4. Supprimer les espaces au début/fin\n"
   ]
  },
  {
   "cell_type": "code",
   "execution_count": 6,
   "id": "00962ec8",
   "metadata": {},
   "outputs": [],
   "source": [
    "df = df.withColumn(\"label\", \n",
    "                      when(col(\"overall\") <= 2, 1)\n",
    "                      .when(col(\"overall\") == 3, 2)\n",
    "                      .otherwise(0))"
   ]
  },
  {
   "cell_type": "code",
   "execution_count": 7,
   "id": "e749c90b",
   "metadata": {},
   "outputs": [
    {
     "name": "stdout",
     "output_type": "stream",
     "text": [
      "+---------------------------------------------------------------------------------------------------------------------------------------------------------------------------------------------------------------------------------------------------------------------------------------------------------------------------------------------------------------------------------------------------------------------------------------------------------------------------------------------------------------------------------------------------------+-------+-----+\n",
      "|full_review                                                                                                                                                                                                                                                                                                                                                                                                                                                                                                                                              |overall|label|\n",
      "+---------------------------------------------------------------------------------------------------------------------------------------------------------------------------------------------------------------------------------------------------------------------------------------------------------------------------------------------------------------------------------------------------------------------------------------------------------------------------------------------------------------------------------------------------------+-------+-----+\n",
      "|jake the product does exactly as it should and is quite affordable i did not realized it was double screened until it arrived so it was even better than i had expected as an added bonus one of the screens carries a small hint of the smell of an old grape candy i used to buy so for reminiscent s sake i cannot stop putting the pop filter next to my nose and smelling it after recording dif you needed a pop filter this will work just as well as the expensive ones and it may even come with a pleasing aroma like mine did buy this product|5      |0    |\n",
      "|it does the job well the primary job of this device is to block the breath that would otherwise produce a popping sound while allowing your voice to pass through with no noticeable reduction of volume or high frequencies the double cloth filter blocks the pops and lets the voice through with no coloration the metal clamp mount attaches to the mike stand secure enough to keep it attached the goose neck needs a little coaxing to stay where you put it                                                                                     |5      |0    |\n",
      "|good windscreen for the money nice windscreen protects my mxl mic and prevents pops only thing is that the gooseneck is only marginally able to hold the screen in position and requires careful positioning of the clamp to avoid sagging                                                                                                                                                                                                                                                                                                               |5      |0    |\n",
      "|no more pops when i record my vocals this pop filter is great it looks and performs like a studio filter if you re recording vocals this will eliminate the pops that gets recorded when you sing                                                                                                                                                                                                                                                                                                                                                        |5      |0    |\n",
      "|the best cable so good that i bought another one love the heavy cord and gold connectors bass sounds great i just learned last night how to coil them up i guess i should read instructions more carefully but no harm done still works great                                                                                                                                                                                                                                                                                                            |5      |0    |\n",
      "+---------------------------------------------------------------------------------------------------------------------------------------------------------------------------------------------------------------------------------------------------------------------------------------------------------------------------------------------------------------------------------------------------------------------------------------------------------------------------------------------------------------------------------------------------------+-------+-----+\n",
      "only showing top 5 rows\n",
      "\n"
     ]
    }
   ],
   "source": [
    "df.select(\"full_review\", \"overall\", \"label\").show(5, truncate=False)\n"
   ]
  },
  {
   "cell_type": "code",
   "execution_count": null,
   "id": "6d007094",
   "metadata": {},
   "outputs": [],
   "source": [
    "# import nltk\n",
    "# nltk.download(\"punkt\")\n",
    "# nltk.download(\"averaged_perceptron_tagger\")\n",
    "# nltk.download(\"wordnet\")\n",
    "# nltk.download(\"omw-1.4\")\n",
    "# import nltk\n",
    "#nltk.download('all')"
   ]
  },
  {
   "cell_type": "code",
   "execution_count": 8,
   "id": "5a9c5d72",
   "metadata": {},
   "outputs": [
    {
     "name": "stdout",
     "output_type": "stream",
     "text": [
      "\n",
      "Class counts before balancing: Negative: 9139, Neutral: 422, Positive: 699\n",
      "\n",
      "🔁 Balancing dataset...\n",
      "\n",
      "✅ Balanced class distribution:\n",
      "+-----+-----+\n",
      "|label|count|\n",
      "+-----+-----+\n",
      "|    0| 2000|\n",
      "|    1| 2000|\n",
      "|    2| 2000|\n",
      "+-----+-----+\n",
      "\n"
     ]
    }
   ],
   "source": [
    "from pyspark.sql.functions import col, when, concat_ws, lit, trim, rand, length, avg, count\n",
    "\n",
    "target_size = 2000\n",
    "\n",
    "class_0 = df.filter(col(\"label\") == 0)\n",
    "class_1 = df.filter(col(\"label\") == 1)\n",
    "class_2 = df.filter(col(\"label\") == 2)\n",
    "\n",
    "# Check if we need to oversample or undersample\n",
    "c0_count = class_0.count()\n",
    "c1_count = class_1.count()\n",
    "c2_count = class_2.count()\n",
    "\n",
    "print(f\"\\nClass counts before balancing: Negative: {c0_count}, Neutral: {c1_count}, Positive: {c2_count}\")\n",
    "\n",
    "# Modified oversampling function with a safety check\n",
    "def balance_class(df_class, target, class_name):\n",
    "    current_count = df_class.count()\n",
    "    if current_count == 0:\n",
    "        print(f\"WARNING: No samples in {class_name} class. Cannot balance.\")\n",
    "        return df_class\n",
    "    \n",
    "    if current_count < target:\n",
    "        # Oversample\n",
    "        ratio = int(target / current_count) + 1\n",
    "        oversampled = df_class\n",
    "        for _ in range(ratio - 1):\n",
    "            oversampled = oversampled.union(df_class)\n",
    "        return oversampled.orderBy(rand()).limit(target)\n",
    "    else:\n",
    "        # Undersample\n",
    "        return df_class.orderBy(rand()).limit(target)\n",
    "\n",
    "print(\"\\n🔁 Balancing dataset...\")\n",
    "balanced_1 = balance_class(class_1, target_size, \"negative\")\n",
    "balanced_2 = balance_class(class_2, target_size, \"neutral\")\n",
    "balanced_0 = balance_class(class_0, target_size, \"positive\")\n",
    "\n",
    "df_balanced = balanced_0.union(balanced_1).union(balanced_2).orderBy(rand())\n",
    "\n",
    "print(\"\\n✅ Balanced class distribution:\")\n",
    "df_balanced.groupBy(\"label\").agg(count(\"*\").alias(\"count\")).orderBy(\"label\").show()\n",
    "\n"
   ]
  },
  {
   "cell_type": "code",
   "execution_count": 9,
   "id": "addfdb2b",
   "metadata": {},
   "outputs": [],
   "source": [
    "from pyspark.sql.functions import col, when, concat_ws, lit, trim, rand, length, avg, count\n",
    "from pyspark.ml.feature import Tokenizer, StopWordsRemover, CountVectorizer, IDF, StringIndexer\n",
    "from pyspark.ml.classification import RandomForestClassifier\n",
    "from pyspark.ml import Pipeline\n",
    "from pyspark.ml.evaluation import MulticlassClassificationEvaluator\n",
    "\n",
    "tokenizer = Tokenizer(inputCol=\"full_review\", outputCol=\"words\")\n",
    "\n",
    "stopwords = StopWordsRemover(inputCol=\"words\", outputCol=\"filtered\")\n",
    "\n",
    "count_vec = CountVectorizer(inputCol=\"filtered\", outputCol=\"raw_features\", vocabSize=10000, minDF=5)\n",
    "\n",
    "idf = IDF(inputCol=\"raw_features\", outputCol=\"features\")\n",
    "\n",
    "rf = RandomForestClassifier(featuresCol=\"features\", labelCol=\"label\", numTrees=100, maxDepth=20, seed=42)\n",
    "\n",
    "pipeline = Pipeline(stages=[tokenizer, stopwords, count_vec, idf, rf])"
   ]
  },
  {
   "cell_type": "code",
   "execution_count": 10,
   "id": "64e274de",
   "metadata": {},
   "outputs": [],
   "source": [
    "train_df, val_df, test_df = df_balanced.randomSplit([0.8, 0.1, 0.1], seed=42)\n"
   ]
  },
  {
   "cell_type": "code",
   "execution_count": 11,
   "id": "67e3dd8c",
   "metadata": {},
   "outputs": [],
   "source": [
    "\n",
    "model = pipeline.fit(train_df) \n"
   ]
  },
  {
   "cell_type": "code",
   "execution_count": null,
   "id": "ebd9b284",
   "metadata": {},
   "outputs": [],
   "source": [
    "\n",
    "# val_final = model.transform(val_df)    # Uses vocab/IDF from training\n",
    "# test_final = model.transform(test_df)"
   ]
  },
  {
   "cell_type": "code",
   "execution_count": 12,
   "id": "fd79bbd7",
   "metadata": {},
   "outputs": [
    {
     "name": "stdout",
     "output_type": "stream",
     "text": [
      "Validation set distribution:\n",
      "+-----+-----+\n",
      "|label|count|\n",
      "+-----+-----+\n",
      "|0    |198  |\n",
      "|1    |197  |\n",
      "|2    |192  |\n",
      "+-----+-----+\n",
      "\n",
      "Test set distribution:\n",
      "+-----+-----+\n",
      "|label|count|\n",
      "+-----+-----+\n",
      "|0    |194  |\n",
      "|1    |173  |\n",
      "|2    |200  |\n",
      "+-----+-----+\n",
      "\n"
     ]
    }
   ],
   "source": [
    "# 1) Raw counts per class in validation\n",
    "print(\"Validation set distribution:\")\n",
    "val_df.groupBy(\"label\") \\\n",
    "      .count() \\\n",
    "      .orderBy(\"label\") \\\n",
    "      .show(truncate=False)\n",
    "\n",
    "# 2) Raw counts per class in test\n",
    "print(\"Test set distribution:\")\n",
    "test_df.groupBy(\"label\") \\\n",
    "       .count() \\\n",
    "       .orderBy(\"label\") \\\n",
    "       .show(truncate=False)\n"
   ]
  },
  {
   "cell_type": "code",
   "execution_count": 13,
   "id": "8de12f45",
   "metadata": {},
   "outputs": [
    {
     "name": "stdout",
     "output_type": "stream",
     "text": [
      "\n",
      "Validation Accuracy: 0.855\n",
      "Test       Accuracy: 0.850\n",
      "\n",
      "=== Validation Classification Report ===\n",
      "              precision    recall  f1-score   support\n",
      "\n",
      "    positive      0.844     0.768     0.804       198\n",
      "    negative      0.907     0.939     0.923       197\n",
      "     neutral      0.813     0.859     0.835       192\n",
      "\n",
      "    accuracy                          0.855       587\n",
      "   macro avg      0.855     0.855     0.854       587\n",
      "weighted avg      0.855     0.855     0.854       587\n",
      "\n",
      "=== Validation Confusion Matrix ===\n",
      "[[152  11  35]\n",
      " [  9 185   3]\n",
      " [ 19   8 165]]\n",
      "\n",
      "=== Test Classification Report ===\n",
      "              precision    recall  f1-score   support\n",
      "\n",
      "    positive      0.819     0.794     0.806       194\n",
      "    negative      0.925     0.925     0.925       173\n",
      "     neutral      0.816     0.840     0.828       200\n",
      "\n",
      "    accuracy                          0.850       567\n",
      "   macro avg      0.853     0.853     0.853       567\n",
      "weighted avg      0.850     0.850     0.850       567\n",
      "\n",
      "=== Test Confusion Matrix ===\n",
      "[[154   7  33]\n",
      " [  8 160   5]\n",
      " [ 26   6 168]]\n"
     ]
    }
   ],
   "source": [
    "from sklearn.metrics import classification_report, confusion_matrix\n",
    "from pyspark.ml.evaluation import MulticlassClassificationEvaluator\n",
    "\n",
    "# 2) Define a helper to do the conversion + report\n",
    "def sk_report(predictions, name):\n",
    "    # pull out the two columns into Pandas\n",
    "    pdf = predictions.select(\"label\", \"prediction\").toPandas()\n",
    "    y_true = pdf[\"label\"].astype(int)\n",
    "    y_pred = pdf[\"prediction\"].astype(int)\n",
    "    \n",
    "    # map your numeric codes to human names\n",
    "    label_names = {0: \"positive\", 1: \"negative\", 2: \"neutral\"}\n",
    "    target_names = [label_names[i] for i in sorted(label_names)]\n",
    "    \n",
    "    print(f\"\\n=== {name} Classification Report ===\")\n",
    "    print(classification_report(\n",
    "        y_true,\n",
    "        y_pred,\n",
    "        labels=sorted(label_names),\n",
    "        target_names=target_names,\n",
    "        digits=3\n",
    "    ))\n",
    "    print(f\"=== {name} Confusion Matrix ===\")\n",
    "    print(confusion_matrix(y_true, y_pred, labels=sorted(label_names)))\n",
    "\n",
    "# 3) Generate predictions on your splits\n",
    "val_pred  = model.transform(val_df)\n",
    "test_pred = model.transform(test_df)\n",
    "\n",
    "# 4) (Optional) also show overall accuracy via Spark\n",
    "spark_acc = MulticlassClassificationEvaluator(\n",
    "    labelCol=\"label\",\n",
    "    predictionCol=\"prediction\",\n",
    "    metricName=\"accuracy\"\n",
    ")\n",
    "print(f\"\\nValidation Accuracy: {spark_acc.evaluate(val_pred):.3f}\")\n",
    "print(f\"Test       Accuracy: {spark_acc.evaluate(test_pred):.3f}\")\n",
    "\n",
    "# 5) Print the full reports\n",
    "sk_report(val_pred,  \"Validation\")\n",
    "sk_report(test_pred, \"Test\")\n"
   ]
  },
  {
   "cell_type": "code",
   "execution_count": 14,
   "id": "3acda81f",
   "metadata": {},
   "outputs": [],
   "source": [
    "from pyspark.ml.classification import LogisticRegression\n",
    "from pyspark.ml import Pipeline\n",
    "from pyspark.ml.evaluation import MulticlassClassificationEvaluator\n",
    "from pyspark.ml.classification import LogisticRegression, NaiveBayes, MultilayerPerceptronClassifier\n",
    "\n",
    "\n",
    "import matplotlib.pyplot as plt\n",
    "import seaborn as sns\n",
    "from sklearn.metrics import classification_report, confusion_matrix\n",
    "\n",
    "# 1) Re-use your preprocessing stages:\n",
    "tokenizer         = Tokenizer(inputCol=\"full_review\", outputCol=\"words\")\n",
    "stopwords_remover = StopWordsRemover(inputCol=\"words\",       outputCol=\"filtered\")\n",
    "vectorizer        = CountVectorizer(inputCol=\"filtered\",    outputCol=\"rawFeatures\", vocabSize=5000)\n",
    "idf               = IDF(inputCol=\"rawFeatures\",             outputCol=\"features\")\n",
    "\n",
    "# 2) Define the two models\n",
    "lr = LogisticRegression(\n",
    "    featuresCol=\"features\", labelCol=\"label\",\n",
    "    maxIter=20, regParam=0.1, family=\"multinomial\"\n",
    ")\n",
    "from pyspark.ml.classification import NaiveBayes\n",
    "\n",
    "nb = NaiveBayes(\n",
    "    featuresCol=\"features\", \n",
    "    labelCol=\"label\",\n",
    "    smoothing=1.0  # Handles zero probabilities in text data\n",
    ")\n",
    "mlp = MultilayerPerceptronClassifier(\n",
    "    featuresCol=\"features\",\n",
    "    labelCol=\"label\",\n",
    "    layers=[5000, 100, 3],\n",
    "    maxIter=100,               # you can tune\n",
    "    blockSize=128,             # batch size\n",
    "    seed=42\n",
    ")\n",
    "\n",
    "# 3) Build two pipelines\n",
    "pipe_lr  = Pipeline(stages=[tokenizer, stopwords_remover, vectorizer, idf, lr])\n",
    "pipe_nb = Pipeline(stages=[tokenizer, stopwords_remover, vectorizer, idf, nb])\n",
    "pipe_mlp = Pipeline(stages=[tokenizer, stopwords_remover, vectorizer, idf, mlp])\n",
    "\n",
    "# 4) Fit both on balanced training data\n",
    "model_lr  = pipe_lr .fit(train_df)\n",
    "model_nb = pipe_nb.fit(train_df)\n",
    "model_mlp = pipe_mlp.fit(train_df)\n",
    "\n",
    "# 5) Generate predictions on test set\n",
    "pred_lr  = model_lr .transform(test_df)\n",
    "pred_nb = model_nb.transform(test_df)\n",
    "pred_mlp = model_mlp.transform(test_df)"
   ]
  },
  {
   "cell_type": "code",
   "execution_count": 15,
   "id": "3229c605",
   "metadata": {},
   "outputs": [
    {
     "name": "stdout",
     "output_type": "stream",
     "text": [
      "\n",
      "🔎 LogisticRegression Test Accuracy = 0.9242\n",
      "🔎 NBClassifier      Test Accuracy = 0.7795\n",
      "🔎 MLPClassifier      Test Accuracy = 0.9330\n",
      "\n",
      "=== LogisticRegression Classification Report ===\n",
      "              precision    recall  f1-score   support\n",
      "\n",
      "    negative      0.966     0.983     0.974       173\n",
      "     neutral      0.873     0.965     0.917       200\n",
      "    positive      0.947     0.830     0.885       194\n",
      "\n",
      "    accuracy                          0.924       567\n",
      "   macro avg      0.929     0.926     0.925       567\n",
      "weighted avg      0.927     0.924     0.923       567\n",
      "\n"
     ]
    },
    {
     "data": {
      "image/png": "[encoded data removed]",
      "text/plain": [
       "<Figure size 500x400 with 2 Axes>"
      ]
     },
     "metadata": {},
     "output_type": "display_data"
    },
    {
     "name": "stdout",
     "output_type": "stream",
     "text": [
      "\n",
      "=== NBClassifier Classification Report ===\n",
      "              precision    recall  f1-score   support\n",
      "\n",
      "    negative      0.855     0.821     0.838       173\n",
      "     neutral      0.716     0.770     0.742       200\n",
      "    positive      0.785     0.753     0.768       194\n",
      "\n",
      "    accuracy                          0.780       567\n",
      "   macro avg      0.786     0.781     0.783       567\n",
      "weighted avg      0.782     0.780     0.780       567\n",
      "\n"
     ]
    },
    {
     "data": {
      "image/png": "[encoded data removed]",
      "text/plain": [
       "<Figure size 500x400 with 2 Axes>"
      ]
     },
     "metadata": {},
     "output_type": "display_data"
    },
    {
     "name": "stdout",
     "output_type": "stream",
     "text": [
      "\n",
      "=== MLP Classification Report ===\n",
      "              precision    recall  f1-score   support\n",
      "\n",
      "    negative      0.966     1.000     0.983       173\n",
      "     neutral      0.875     0.980     0.925       200\n",
      "    positive      0.976     0.825     0.894       194\n",
      "\n",
      "    accuracy                          0.933       567\n",
      "   macro avg      0.939     0.935     0.934       567\n",
      "weighted avg      0.937     0.933     0.932       567\n",
      "\n"
     ]
    },
    {
     "data": {
      "image/png": "[encoded data removed]",
      "text/plain": [
       "<Figure size 500x400 with 2 Axes>"
      ]
     },
     "metadata": {},
     "output_type": "display_data"
    }
   ],
   "source": [
    "# 6) Spark evaluator for overall accuracy\n",
    "evaluator = MulticlassClassificationEvaluator(\n",
    "    labelCol=\"label\", predictionCol=\"prediction\", metricName=\"accuracy\"\n",
    ")\n",
    "print(f\"\\n🔎 LogisticRegression Test Accuracy = {evaluator.evaluate(pred_lr):.4f}\")\n",
    "print(f\"🔎 NBClassifier      Test Accuracy = {evaluator.evaluate(pred_nb):.4f}\")\n",
    "print(f\"🔎 MLPClassifier      Test Accuracy = {evaluator.evaluate(pred_mlp):.4f}\")\n",
    "\n",
    "# 7) Convert to pandas and print detailed reports\n",
    "def detailed_report(pred_lr , model_name):\n",
    "    pdf = pred_lr .select(\"label\", \"prediction\").toPandas()\n",
    "    y_true = pdf[\"label\"].astype(int)\n",
    "    y_pred = pdf[\"prediction\"].astype(int)\n",
    "    label_names = {0:\"positive\",1:\"negative\",2:\"neutral\"}\n",
    "    y_true_named = [label_names[i] for i in y_true]\n",
    "    y_pred_named = [label_names[i] for i in y_pred]\n",
    "\n",
    "    print(f\"\\n=== {model_name} Classification Report ===\")\n",
    "    print(classification_report(\n",
    "        y_true_named, y_pred_named,\n",
    "        labels=[\"negative\",\"neutral\",\"positive\"],\n",
    "        digits=3\n",
    "    ))\n",
    "    cm = confusion_matrix(\n",
    "        y_true_named, y_pred_named,\n",
    "        labels=[\"negative\",\"neutral\",\"positive\"]\n",
    "    )\n",
    "    plt.figure(figsize=(5,4))\n",
    "    sns.heatmap(cm, annot=True, fmt=\"d\", cmap=\"Blues\",\n",
    "                xticklabels=[\"neg\",\"neu\",\"pos\"],\n",
    "                yticklabels=[\"neg\",\"neu\",\"pos\"])\n",
    "    plt.title(f\"{model_name} Confusion Matrix\")\n",
    "    plt.show()\n",
    "\n",
    "# 8) Show for both\n",
    "detailed_report(pred_lr,  \"LogisticRegression\")\n",
    "detailed_report(pred_nb, \"NBClassifier\")\n",
    "detailed_report(pred_mlp, \"MLP\")"
   ]
  },
  {
   "cell_type": "code",
   "execution_count": 17,
   "id": "a77cbdae",
   "metadata": {},
   "outputs": [],
   "source": [
    "from pyspark.ml.evaluation import MulticlassClassificationEvaluator\n",
    "\n",
    "evaluators = {\n",
    "    \"accuracy\": MulticlassClassificationEvaluator(labelCol=\"label\", predictionCol=\"prediction\", metricName=\"accuracy\"),\n",
    "    \"precision\": MulticlassClassificationEvaluator(labelCol=\"label\", predictionCol=\"prediction\", metricName=\"weightedPrecision\"),\n",
    "    \"recall\": MulticlassClassificationEvaluator(labelCol=\"label\", predictionCol=\"prediction\", metricName=\"weightedRecall\"),\n",
    "    \"f1_score\": MulticlassClassificationEvaluator(labelCol=\"label\", predictionCol=\"prediction\", metricName=\"f1\")\n",
    "}\n"
   ]
  },
  {
   "cell_type": "code",
   "execution_count": null,
   "id": "400edf5e",
   "metadata": {},
   "outputs": [
    {
     "name": "stdout",
     "output_type": "stream",
     "text": [
      "✅ Evaluation results:\n"
     ]
    },
    {
     "data": {
      "text/html": [
       "<div>\n",
       "<style scoped>\n",
       "    .dataframe tbody tr th:only-of-type {\n",
       "        vertical-align: middle;\n",
       "    }\n",
       "\n",
       "    .dataframe tbody tr th {\n",
       "        vertical-align: top;\n",
       "    }\n",
       "\n",
       "    .dataframe thead th {\n",
       "        text-align: right;\n",
       "    }\n",
       "</style>\n",
       "<table border=\"1\" class=\"dataframe\">\n",
       "  <thead>\n",
       "    <tr style=\"text-align: right;\">\n",
       "      <th></th>\n",
       "      <th>accuracy</th>\n",
       "      <th>precision</th>\n",
       "      <th>recall</th>\n",
       "      <th>f1_score</th>\n",
       "      <th>average_score</th>\n",
       "    </tr>\n",
       "  </thead>\n",
       "  <tbody>\n",
       "    <tr>\n",
       "      <th>RandomForest</th>\n",
       "      <td>0.9330</td>\n",
       "      <td>0.9373</td>\n",
       "      <td>0.9330</td>\n",
       "      <td>0.9319</td>\n",
       "      <td>0.9338</td>\n",
       "    </tr>\n",
       "    <tr>\n",
       "      <th>LogisticRegression</th>\n",
       "      <td>0.9242</td>\n",
       "      <td>0.9268</td>\n",
       "      <td>0.9242</td>\n",
       "      <td>0.9233</td>\n",
       "      <td>0.9246</td>\n",
       "    </tr>\n",
       "    <tr>\n",
       "      <th>NaiveBayes</th>\n",
       "      <td>0.7795</td>\n",
       "      <td>0.7822</td>\n",
       "      <td>0.7795</td>\n",
       "      <td>0.7803</td>\n",
       "      <td>0.7804</td>\n",
       "    </tr>\n",
       "    <tr>\n",
       "      <th>MLPClassifier</th>\n",
       "      <td>0.9330</td>\n",
       "      <td>0.9373</td>\n",
       "      <td>0.9330</td>\n",
       "      <td>0.9319</td>\n",
       "      <td>0.9338</td>\n",
       "    </tr>\n",
       "  </tbody>\n",
       "</table>\n",
       "</div>"
      ],
      "text/plain": [
       "                    accuracy  precision  recall  f1_score  average_score\n",
       "RandomForest          0.9330     0.9373  0.9330    0.9319         0.9338\n",
       "LogisticRegression    0.9242     0.9268  0.9242    0.9233         0.9246\n",
       "NaiveBayes            0.7795     0.7822  0.7795    0.7803         0.7804\n",
       "MLPClassifier         0.9330     0.9373  0.9330    0.9319         0.9338"
      ]
     },
     "metadata": {},
     "output_type": "display_data"
    },
    {
     "name": "stdout",
     "output_type": "stream",
     "text": [
      "🏆 Best model is: RandomForest\n"
     ]
    }
   ],
   "source": [
    "results = {}\n",
    "\n",
    "models = {\n",
    "    \"RandomForest\": model,\n",
    "    \"LogisticRegression\": model_lr,\n",
    "    \"NaiveBayes\": model_nb,\n",
    "    \"MLPClassifier\": model_mlp\n",
    "}\n",
    "\n",
    "for name, model in models.items():\n",
    "    predictions = model.transform(test_df)\n",
    "    metrics = {}\n",
    "    for metric_name, evaluator in evaluators.items():\n",
    "        metrics[metric_name] = evaluator.evaluate(predictions)\n",
    "    results[name] = metrics\n",
    "\n",
    "# Convert to Pandas DataFrame for easy comparison\n",
    "import pandas as pd\n",
    "\n",
    "results_df = pd.DataFrame(results).T\n",
    "results_df[\"average_score\"] = results_df.mean(axis=1)\n",
    "best_model_name = results_df[\"average_score\"].idxmax()\n",
    "print(\"✅ Evaluation results:\")\n",
    "display(results_df.round(4))\n",
    "print(f\"🏆 Best model is: {best_model_name}\")\n",
    "\n",
    "best_model = models[best_model_name]\n",
    "best_model.save(\"best_model\")  \n",
    "\n"
   ]
  }
 ],
 "metadata": {
  "kernelspec": {
   "display_name": "Python 3.11 (SmartHeart)",
   "language": "python",
   "name": "smartheart-env"
  },
  "language_info": {
   "codemirror_mode": {
    "name": "ipython",
    "version": 3
   },
   "file_extension": ".py",
   "mimetype": "text/x-python",
   "name": "python",
   "nbconvert_exporter": "python",
   "pygments_lexer": "ipython3",
   "version": "3.11.1"
  }
 },
 "nbformat": 4,
 "nbformat_minor": 5
}
