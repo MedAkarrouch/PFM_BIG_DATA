{
 "cells": [
  {
   "cell_type": "code",
   "execution_count": 1,
   "id": "d1a354a1",
   "metadata": {},
   "outputs": [
    {
     "name": "stdout",
     "output_type": "stream",
     "text": [
      "✅ Train size: 8207 | Test size: 2054\n"
     ]
    }
   ],
   "source": [
    "import json\n",
    "from sklearn.model_selection import train_test_split\n",
    "from collections import defaultdict\n",
    "\n",
    "# Load data\n",
    "INPUT_FILE = \"Data.json\"\n",
    "TRAIN_FILE = \"train.json\"\n",
    "TEST_FILE = \"test.json\"\n",
    "TEST_SIZE = 0.2  # 20% for testing\n",
    "\n",
    "# Step 1: Read and group reviews by rating\n",
    "data_by_rating = defaultdict(list)\n",
    "\n",
    "with open(INPUT_FILE, 'r', encoding='utf-8') as f:\n",
    "    for line in f:\n",
    "        try:\n",
    "            review = json.loads(line.strip())\n",
    "            rating = int(review.get(\"overall\", 0))\n",
    "            data_by_rating[rating].append(review)\n",
    "        except json.JSONDecodeError:\n",
    "            continue\n",
    "\n",
    "# Step 2: Stratified splitting\n",
    "train_data = []\n",
    "test_data = []\n",
    "\n",
    "for rating, reviews in data_by_rating.items():\n",
    "    if len(reviews) >= 2:  # at least 2 samples to split\n",
    "        train, test = train_test_split(reviews, test_size=TEST_SIZE, random_state=42)\n",
    "        train_data.extend(train)\n",
    "        test_data.extend(test)\n",
    "    else:\n",
    "        # Not enough samples to split\n",
    "        train_data.extend(reviews)\n",
    "\n",
    "# Step 3: Save to JSON line files\n",
    "with open(TRAIN_FILE, 'w', encoding='utf-8') as f:\n",
    "    for item in train_data:\n",
    "        f.write(json.dumps(item) + \"\\n\")\n",
    "\n",
    "with open(TEST_FILE, 'w', encoding='utf-8') as f:\n",
    "    for item in test_data:\n",
    "        f.write(json.dumps(item) + \"\\n\")\n",
    "\n",
    "print(f\"✅ Train size: {len(train_data)} | Test size: {len(test_data)}\")\n"
   ]
  }
 ],
 "metadata": {
  "kernelspec": {
   "display_name": "Python 3",
   "language": "python",
   "name": "python3"
  },
  "language_info": {
   "codemirror_mode": {
    "name": "ipython",
    "version": 3
   },
   "file_extension": ".py",
   "mimetype": "text/x-python",
   "name": "python",
   "nbconvert_exporter": "python",
   "pygments_lexer": "ipython3",
   "version": "3.12.0"
  }
 },
 "nbformat": 4,
 "nbformat_minor": 5
}
